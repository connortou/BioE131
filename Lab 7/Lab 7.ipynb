{
 "cells": [
  {
   "cell_type": "markdown",
   "metadata": {},
   "source": [
    "# Connor Tou | BioE131 Lab 7"
   ]
  },
  {
   "cell_type": "code",
   "execution_count": 1,
   "metadata": {},
   "outputs": [],
   "source": [
    "import numpy as np\n",
    "import string\n",
    "from os import listdir\n",
    "from os.path import isfile, join\n",
    "import matplotlib.pyplot as plt\n",
    "%matplotlib inline"
   ]
  },
  {
   "cell_type": "markdown",
   "metadata": {},
   "source": [
    "## SIMULATING THE DATA\n"
   ]
  },
  {
   "cell_type": "markdown",
   "metadata": {},
   "source": [
    "### Binary Data"
   ]
  },
  {
   "cell_type": "code",
   "execution_count": 5,
   "metadata": {},
   "outputs": [],
   "source": [
    "percentages = [i for i in range(50,101,10)]  \n",
    "\n",
    "for p in percentages:\n",
    "    binary_data = np.packbits(np.random.choice([0, 1], size=8*1000000*100, replace=True, p = [p/100, 1-p/100]))\n",
    "    open('Data/zeros_%sp' %p, 'wb').write(binary_data)"
   ]
  },
  {
   "cell_type": "markdown",
   "metadata": {},
   "source": [
    "### DNA Data"
   ]
  },
  {
   "cell_type": "code",
   "execution_count": 6,
   "metadata": {},
   "outputs": [],
   "source": [
    "# generate DNA sequence 100 million letters long with equal probability and save it into a file\n",
    "\n",
    "dna = np.random.choice(['A', 'T', 'G', 'C'], size=100000000, replace=True);\n",
    "open('Data/dna.fa', 'w').write(''.join(dna));"
   ]
  },
  {
   "cell_type": "markdown",
   "metadata": {},
   "source": [
    "### Protein Data"
   ]
  },
  {
   "cell_type": "code",
   "execution_count": 7,
   "metadata": {},
   "outputs": [],
   "source": [
    "# generate protein sequence 100 million letters long with equal probability and save it into a file\n",
    "\n",
    "protein = np.random.choice(list(string.ascii_uppercase), size=100000000, replace=True);\n",
    "open('Data/protein.fa', 'w').write(''.join(protein));"
   ]
  },
  {
   "cell_type": "markdown",
   "metadata": {},
   "source": [
    "## COMPRESSING THE DATA"
   ]
  },
  {
   "cell_type": "markdown",
   "metadata": {},
   "source": [
    "### zeros_50p \n",
    "\n",
    "[5367152@ip-172-30-0-105 ~]$ time gzip -c Data/zeros_50p > Data/zeros_50p.gz\n",
    "\n",
    "real    0m3.412s\n",
    "user    0m3.351s\n",
    "sys     0m0.060s\n",
    "\n",
    "[5367152@ip-172-30-0-105 ~]$ time bzip2 -k Data/zeros_50p\n",
    "\n",
    "real    0m12.817s\n",
    "user    0m12.701s\n",
    "sys     0m0.116s\n",
    "\n",
    "[5367152@ip-172-30-0-105 ~]$ time pbzip2 -k Data/zeros_50p\n",
    "\n",
    "real    0m1.806s\n",
    "user    0m27.213s\n",
    "sys     0m0.654s"
   ]
  },
  {
   "cell_type": "markdown",
   "metadata": {},
   "source": [
    "### zeros_60p\n",
    "\n",
    "[5367152@ip-172-30-0-105 ~]$ time gzip -c Data/zeros_60p > Data/zeros_60p.gz\n",
    "\n",
    "real    0m4.206s\n",
    "user    0m4.146s\n",
    "sys     0m0.060s\n",
    "\n",
    "[5367152@ip-172-30-0-105 ~]$ time bzip2 -k Data/zeros_60p\n",
    "\n",
    "real    0m11.928s\n",
    "user    0m11.835s\n",
    "sys     0m0.092s\n",
    "\n",
    "[5367152@ip-172-30-0-105 ~]$ time pbzip2 -k Data/zeros_60p\n",
    "\n",
    "real    0m1.670s\n",
    "user    0m25.209s\n",
    "sys     0m0.623s"
   ]
  },
  {
   "cell_type": "markdown",
   "metadata": {},
   "source": [
    "### zeros_70p\n",
    "\n",
    "[5367152@ip-172-30-0-105 ~]$ time gzip -c Data/zeros_70p > Data/zeros_70p.gz\n",
    "\n",
    "real    0m6.779s\n",
    "user    0m6.727s\n",
    "sys     0m0.052s\n",
    "\n",
    "[5367152@ip-172-30-0-105 ~]$ time bzip2 -k Data/zeros_70p\n",
    "\n",
    "real    0m10.811s\n",
    "user    0m10.711s\n",
    "sys     0m0.100s\n",
    "\n",
    "[5367152@ip-172-30-0-105 ~]$ time pbzip2 -k Data/zeros_70p\n",
    "\n",
    "real    0m1.405s\n",
    "user    0m21.014s\n",
    "sys     0m0.648s"
   ]
  },
  {
   "cell_type": "markdown",
   "metadata": {},
   "source": [
    "### zeros_80p\n",
    "\n",
    "[5367152@ip-172-30-0-105 ~]$ time gzip -c Data/zeros_80p > Data/zeros_80p.gz\n",
    "\n",
    "real    0m16.598s\n",
    "user    0m16.546s\n",
    "sys     0m0.052s\n",
    "\n",
    "[5367152@ip-172-30-0-105 ~]$ time bzip2 -k Data/zeros_80p\n",
    "\n",
    "real    0m9.991s\n",
    "user    0m9.934s\n",
    "sys     0m0.056s\n",
    "\n",
    "[5367152@ip-172-30-0-105 ~]$ time pbzip2 -k Data/zeros_80p\n",
    "\n",
    "real    0m1.173s\n",
    "user    0m17.472s\n",
    "sys     0m0.562s"
   ]
  },
  {
   "cell_type": "markdown",
   "metadata": {},
   "source": [
    "### zeros_90p\n",
    "\n",
    "[5367152@ip-172-30-0-105 ~]$ time gzip -c Data/zeros_90p > Data/zeros_90p.gz\n",
    "\n",
    "real    0m25.732s\n",
    "user    0m25.679s\n",
    "sys     0m0.052s\n",
    "\n",
    "[5367152@ip-172-30-0-105 ~]$ time bzip2 -k Data/zeros_90p\n",
    "\n",
    "real    0m9.504s\n",
    "user    0m9.436s\n",
    "sys     0m0.068s\n",
    "\n",
    "[5367152@ip-172-30-0-105 ~]$ time pbzip2 -k Data/zeros_90p\n",
    "\n",
    "real    0m1.007s\n",
    "user    0m14.964s\n",
    "sys     0m0.495s"
   ]
  },
  {
   "cell_type": "markdown",
   "metadata": {},
   "source": [
    "### zeros_100p\n",
    "\n",
    "[5367152@ip-172-30-0-105 ~]$ time gzip -c Data/zeros_100p > Data/zeros_100p.gz\n",
    "\n",
    "real    0m0.577s\n",
    "user    0m0.569s\n",
    "sys     0m0.008s\n",
    "\n",
    "[5367152@ip-172-30-0-105 ~]$ time bzip2 -k Data/zeros_100p\n",
    "\n",
    "real    0m0.855s\n",
    "user    0m0.823s\n",
    "sys     0m0.032s\n",
    "\n",
    "\n",
    "[5367152@ip-172-30-0-105 ~]$ time pbzip2 -k Data/zeros_100p\n",
    "\n",
    "real    0m0.142s\n",
    "user    0m1.746s\n",
    "sys     0m0.058s"
   ]
  },
  {
   "cell_type": "markdown",
   "metadata": {},
   "source": [
    "### dna.fa\n",
    "\n",
    "[5367152@ip-172-30-0-105 ~]$ time gzip -c Data/dna.fa > dna.fa.gz\n",
    "\n",
    "real    0m22.989s\n",
    "user    0m22.956s\n",
    "sys     0m0.032s\n",
    "\n",
    "\n",
    "[5367152@ip-172-30-0-105 ~]$ time bzip2 -k Data/dna.fa\n",
    "\n",
    "real    0m9.279s\n",
    "user    0m9.238s\n",
    "sys     0m0.040s\n",
    "\n",
    "[5367152@ip-172-30-0-105 ~]$ time pbzip2 -k Data/dna.fa\n",
    "\n",
    "real    0m0.986s\n",
    "user    0m14.357s\n",
    "sys     0m0.538s"
   ]
  },
  {
   "cell_type": "markdown",
   "metadata": {},
   "source": [
    "### protein.fa\n",
    "\n",
    "[5367152@ip-172-30-0-105 ~]$ time gzip -c Data/protein.fa > Data/protein.fa.gz\n",
    "\n",
    "real    0m3.746s\n",
    "user    0m3.710s\n",
    "sys     0m0.036s\n",
    "\n",
    "[5367152@ip-172-30-0-105 ~]$ time bzip2 -k Data/protein.fa\n",
    "\n",
    "real    0m9.338s\n",
    "user    0m9.242s\n",
    "sys     0m0.096s\n",
    "\n",
    "[5367152@ip-172-30-0-105 ~]$ time pbzip2 -k Data/protein.fa\n",
    "\n",
    "real    0m1.017s\n",
    "user    0m15.085s\n",
    "sys     0m0.516s"
   ]
  },
  {
   "cell_type": "markdown",
   "metadata": {},
   "source": [
    "### Summary Table"
   ]
  },
  {
   "cell_type": "markdown",
   "metadata": {},
   "source": [
    "|original file|command|input file size|output file size|time elapsed|\n",
    "|------|------|------|------|------|\n",
    "|zeros_50p|gzip|100 MB|100 MB|0:03.412s|\n",
    "|zeros_50p|bzip2|100 MB|100 MB|0:12.817s|\n",
    "|zeros_50p|pbzip2|100 MB|100 MB|0:1.806s|\n",
    "|zeros_60p|gzip|100 MB|97.7 MB|0:04.206s|\n",
    "|zeros_60p|bzip2|100 MB|100 MB|0:11.928s|\n",
    "|zeros_60p|pbzip2|100 MB|100 MB|0:01.670s|\n",
    "|zeros_70p|gzip|100 MB|89.3 MB|0:06.779s|\n",
    "|zeros_70p|bzip2|100 MB|95.1 MB|0:10.811s|\n",
    "|zeros_70p|pbzip2|100 MB|95.1 MB|0:01.405s|\n",
    "|zeros_80p|gzip|100 MB|77.4 MB|0:16.598s|\n",
    "|zeros_80p|bzip2|100 MB|82.6 MB|0:09.991s|\n",
    "|zeros_80p|pbzip2|100 MB|82.6 MB|0:01.173s|\n",
    "|zeros_90p|gzip|100 MB|56.0 MB|0:25.732s|\n",
    "|zeros_90p|bzip2|100 MB|58.3 MB|0:09.504s|\n",
    "|zeros_90p|pbzip2|100 MB|58.4 MB|0:01.007s|\n",
    "|zeros_100p|gzip|100 MB|97.1 kB|0:00.577s|\n",
    "|zeros_100p|bzip2|100 MB|113 B|0:00.855s|\n",
    "|zeros_100p|pbzip2|100 MB|5.38 kB|0:00.142s|\n",
    "|dna.fa|gzip|100 MB|29.2 MB|0:22.989s|\n",
    "|dna.fa|bzip2|100 MB|27.3 MB|0:09.279s|\n",
    "|dna.fa|pbzip2|100 MB|27.3 MB|0:00.986s|\n",
    "|protein.fa|gzip|100 MB|63.5 MB|0:03.746s|\n",
    "|protein.fa|bzip2|100 MB|59.8 MB|0:09.338s|\n",
    "|protein.fa|pbzip2|100 MB|59.8 MB|0:01.017s|"
   ]
  },
  {
   "cell_type": "markdown",
   "metadata": {},
   "source": [
    "## QUESTIONS:"
   ]
  },
  {
   "cell_type": "markdown",
   "metadata": {},
   "source": [
    "**Which algorithm achieves the best level of compression on each file type?**\n",
    "* For binary data, gzip attains the best level of compression (except for the 100% zeros data, where bzip had the highest compression). For dna and protein data, bzip2 and pbzip2 had higher compression than gzip. \n",
    "\n",
    "**Which algorithm is the fastest?**\n",
    "* pbzip2 is the fastest\n",
    "\n",
    "**What is the\tdifference between bzip2 and pbzip2? Do you expect one to be faster and why?**\t\n",
    "* pbzip2 is a modified version of bzip2. One major difference is that pbzip2 supports multi-threading. Thus, on multi-CPU/ multi-core computers, linear speed improvements can be achieved. Because of this, pbzip2 is faster. \n",
    "\n",
    "**How does the level of compression change as the percentage of zeros increases? Why does this happen?**\n",
    "* Compression improves significantly with increasing percentage of zeros. This happens because there is less variation in the data. \n",
    "\n",
    "**What is the minimum\tnumber of bits required to store a single DNA base?**\t\n",
    "* The minimum number of bits required is log2(4)=2 since there are four different nucleotide possibilities.  \n",
    "\n",
    "**What is\tthe minimum number of bits required to store an amino acid letter?**\t\n",
    "* Since there are 20 amino acids, the minimum number of bits required is log2(20)=4.3. As this must be an integer number, 5 bits is required. \n",
    "\n",
    "**In your tests, how many bits did gzip and bzip2 actually require to store your random DNA and protein sequences?**\t\n",
    "* DNA: gzip takes 29.2MB. Thus, 29.2MB * (1e6 * 8)/100,000,000 = 2.34 bits per nucleotide\n",
    "* DNA: bzip2 takes 27.3MB. Thus, 27.3MB * (1e6 * 8)/100,000,000 = 2.18 bits per nucleotide\n",
    "* Proteins: gzip takes 63.5MB. Thus, 63.5MB * (1e6 * 8)/100,000,000 = 5.08 bits per amino acid letter\n",
    "* Proteins: bzip2 takes 59.8MB. Thus, 59.8MB * (1e6 * 8)/100,000,000 = 4.78 bits per amino acid letter\n",
    "\n",
    "**Are gzip and bzip2 performing well on DNA and proteins?**\n",
    "* bzip2 has a relatively good performance when looking at compression ratio; gzip is the worst among the three algorithms. Looking at speed, gzip and bzip2 are moderate - pbzip2 is much faster than the two. In summary, they have mediocre performance on DNA and protein data. "
   ]
  },
  {
   "cell_type": "code",
   "execution_count": 2,
   "metadata": {},
   "outputs": [],
   "source": [
    "from Bio import Entrez\n",
    "from Bio import SeqIO\n",
    "import sys\n",
    "\n",
    "Entrez.email = \"connortou@berkeley.edu\"\n",
    "list_seq = []     \n",
    "list_name = []     \n",
    "\n",
    "handle = Entrez.esearch(db = 'nucleotide',       \n",
    "                        term = 'gp120 and HIV',\n",
    "                        sort = 'relevance',\n",
    "                        idtype = 'acc',\n",
    "                        retmax = 10)\n",
    "            \n",
    "            \n",
    "for i in Entrez.read(handle)['IdList']:\n",
    "    handle = Entrez.efetch(db = 'nucleotide', id = i, rettype = 'gb', retmode = 'text')\n",
    "    record = SeqIO.read(handle, \"genbank\")\n",
    "    list_name.append(str(record.name))\n",
    "    list_seq.append(str(record.seq))\n",
    "    handle.close()"
   ]
  },
  {
   "cell_type": "code",
   "execution_count": 3,
   "metadata": {},
   "outputs": [],
   "source": [
    "dict_gp120 = dict(zip(list_name, list_seq))     \n",
    "\n",
    "ofile = open(\"multi_fasta.fa\", \"w\")\n",
    "\n",
    "for i in range(len(list_seq)):                   \n",
    "    ofile.write(\">\" + list_name[i] + \"\\n\" +list_seq[i] + \"\\n\")\n",
    "\n",
    "ofile.close()"
   ]
  },
  {
   "cell_type": "markdown",
   "metadata": {},
   "source": [
    "### multi_fasta.fa\n",
    "\n",
    "[5367152@ip-172-30-0-105 ~]$ time gzip -c multi_fasta.fa > multi_fasta.fa.gz\n",
    "\n",
    "real    0m0.001s\n",
    "user    0m0.000s\n",
    "sys     0m0.001s\n",
    "\n",
    "\n",
    "[5367152@ip-172-30-0-105 ~]$ time bzip2 -k multi_fasta.fa\n",
    "\n",
    "real    0m0.002s\n",
    "user    0m0.002s\n",
    "sys     0m0.000s\n",
    "\n",
    "[5367152@ip-172-30-0-105 ~]$ time pbzip2 -k multi_fasta.fa\n",
    "\n",
    "real    0m0.003s\n",
    "user    0m0.003s\n",
    "sys     0m0.000s"
   ]
  },
  {
   "cell_type": "markdown",
   "metadata": {},
   "source": [
    "#### A priori, do you expect to achieve better or worse compression here than random data? Why? \n",
    "* There are more patterns in natural data (sequences from nature), so compression should be better. "
   ]
  },
  {
   "cell_type": "markdown",
   "metadata": {},
   "source": [
    "|original file|command type|input file size|output file size|compression ratio|\n",
    "|------|------|------|------|------|\n",
    "|multi_fasta.fa|gzip|5.46 kB|1.25 kB|22.89%|\n",
    "|multi_fasta.fa|bzip2|5.46 kB|1.33 kB|24.36%|"
   ]
  },
  {
   "cell_type": "markdown",
   "metadata": {},
   "source": [
    "#### How does the compression ratio of this file compare to random data?\n",
    "* For random dna sequences, the compression ratio is 29.2% for gzip and 27.3% for bzip. The comrpession ratio is lower for this file, meaning that compression is better for this file as expected. "
   ]
  },
  {
   "cell_type": "markdown",
   "metadata": {},
   "source": [
    "## ESTIMATING COMPRESSION OF 1000 TERABYTES"
   ]
  },
  {
   "cell_type": "markdown",
   "metadata": {},
   "source": [
    "**Given the benchmarking data you obtained in this lab, which algorithm do you propose to use for each type of data? Provide an estimate for the fraction\tof space you can save using your compression scheme.**\t\n",
    "\n",
    "pbzip2 should be used for all three types of data. At the fastest, we have 0.1 seconds for real-life DNA data, 1.02 for protein data, and 1.81 seconds for random binary data (zeros_50p). These times will be used in the following calculations along with the respective compression ratios. \n",
    "\n",
    "80% = resequencing of genomes and plasmids --> Using pbzip, a single computer can theoretically compress in a day (86400 seconds)*(100MB/0.1 seconds) = 86.4TB. In 24 hours, the reduction is: (86400 seconds/0.1 second)*100MB*(1-0.2436%) = 65.4TB. Thus, each day, a singel computer can take 86.4TB of dna data and compress it to 65.4TB of dna data. \n",
    "\n",
    "10% = protein sequences --> use pbzip2. a single computer can theoretically compress in a day (86400 seconds)*(100MB/1.02 seconds) = 8.5TB. The reduction in data in 24 hours: (86400 seconds)*(100MB/1.02 seconds)*(1-0.598) = 3.4TB\n",
    "\n",
    "10% = random binary data --> assuming this is a random binary with 50% zeros (using the time and compression ratio for this). a single computer can theoretically compress in a day (86400 seconds)*(100MB/1.81 seconds) = 4.77TB. The reduction in data in 24 hours: (86400 seconds/1.5 second)*100MB*(1-1) = 0TB. There is no compression.\n",
    "\n",
    "The company generates 1000TB of data each day. 800TB is dna sequences, 100TB is protein sequences, and 100TB is random binary data. Each day, 86.4TB of the dna sequence 800TB can be compressed to 65.4TB of data and 8.5TB of the protein sequence 100TB can be compressed to 3.4TB of data. \n",
    "\n",
    "Therefore, the total reduction is 21.0TB + 5.1TB + 0.0TB = 26.1TB.\n",
    "\n",
    "**How\tmuch of a bonus do you anticipate receiving this year?**\n",
    "\n",
    "50 dollars/TB * 26.1TB = 1305 dollars. Therefore, per year, 1305 dollars/day*365days/year = 476,325 dollars"
   ]
  },
  {
   "cell_type": "markdown",
   "metadata": {},
   "source": [
    "# END OF LAB 7"
   ]
  }
 ],
 "metadata": {
  "kernelspec": {
   "display_name": "Python 3",
   "language": "python",
   "name": "python3"
  },
  "language_info": {
   "codemirror_mode": {
    "name": "ipython",
    "version": 3
   },
   "file_extension": ".py",
   "mimetype": "text/x-python",
   "name": "python",
   "nbconvert_exporter": "python",
   "pygments_lexer": "ipython3",
   "version": "3.7.3"
  }
 },
 "nbformat": 4,
 "nbformat_minor": 2
}
