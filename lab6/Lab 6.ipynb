{
 "cells": [
  {
   "cell_type": "markdown",
   "metadata": {},
   "source": [
    "# Connor Tou | Lab 6"
   ]
  },
  {
   "cell_type": "markdown",
   "metadata": {},
   "source": [
    "**What will you use for the database? Input reads?**\n",
    "* The bowtie2 database containing the human genome is used. For the input reads, the illumina reads are used. \n",
    "\n",
    "**If you use the --un unaligned.fastq option, what will unaligned.fastq\tcontain?**\n",
    "* The unaligned.fastq file will contain all the reads that did not align to the human genome - the uncontaminated reads we want!"
   ]
  },
  {
   "cell_type": "markdown",
   "metadata": {},
   "source": [
    "This command was run in the terminal for the mixed_reads1 file in included in /data/Lab6_data:\n",
    "```\n",
    "[5367152@ip-172-30-0-105 ~]$ bowtie2 -p 4 --very-fast --no-unal -x /data/references/hg19/hg19 -U /data/Lab6_data/mixed_reads1.fastq -S aligned1.sam --un unaligned1.fastq\n",
    "```\n",
    "The output is:\n",
    "```\n",
    "1285441 reads; of these:\n",
    "  1285441 (100.00%) were unpaired; of these:\n",
    "    1030006 (80.13%) aligned 0 times\n",
    "    234344 (18.23%) aligned exactly 1 time\n",
    "    21091 (1.64%) aligned >1 times\n",
    "19.87% overall alignment rate\n",
    "```\n",
    "\n",
    "For the mixed_reads2 file included in /data/Lab6_data, this was the output:\n",
    "```\n",
    "1285441 reads; of these:\n",
    "  1285441 (100.00%) were unpaired; of these:\n",
    "    1030191 (80.14%) aligned 0 times\n",
    "    234139 (18.21%) aligned exactly 1 time\n",
    "    21111 (1.64%) aligned >1 times\n",
    "19.86% overall alignment rate\n",
    "```"
   ]
  },
  {
   "cell_type": "markdown",
   "metadata": {},
   "source": [
    "**What percentage of your sequencing library came\tfrom contaminating human DNA?**\n",
    "* Based on the analysis for mixed_reads1 (which will be used for the rest of the lab), 19.87% of the library came from human DNA - a lot of contamination!\n",
    "\n",
    "### For the rest of the lab, the generated unaligned1.fastq file from using the mixed_reads1 file as input in the above analysis will be used. "
   ]
  },
  {
   "cell_type": "markdown",
   "metadata": {},
   "source": [
    "## Align the reads\tto the\t_S. oneidensis_ reference genome"
   ]
  },
  {
   "cell_type": "markdown",
   "metadata": {},
   "source": [
    "**Now we will align the filtered reads to the database containing the shewanella genome.** <br>\n",
    "Here is the command used in the terminal:\n",
    "```\n",
    "[5367152@ip-172-30-0-105 ~]$ bowtie2 -p 4 --very-fast --no-unal -x /data/references/shewanella_oneidensis_mr-1/shewanella_oneidensis_mr-1 -U unaligned1.fastq -S shewanella_aligned1.sam --un shewanella_unaligned1.fastq\n",
    "```\n",
    "\n",
    "The output is:\n",
    "```\n",
    "1030006 reads; of these:\n",
    "  1030006 (100.00%) were unpaired; of these:\n",
    "    268017 (26.02%) aligned 0 times\n",
    "    710825 (69.01%) aligned exactly 1 time\n",
    "    51164 (4.97%) aligned >1 times\n",
    "73.98% overall alignment rate\n",
    "```"
   ]
  },
  {
   "cell_type": "markdown",
   "metadata": {},
   "source": [
    "**If you use the --un unaligned.fastq option, what will unaligned.fastq\tcontain?**\n",
    "* This file will contain reads from the filtered read file (those that are not from human contamination) that do not align with the shewanella genome. Thus these reads could be those of further contamination from additional sources. \n"
   ]
  },
  {
   "cell_type": "markdown",
   "metadata": {},
   "source": [
    "#### Now we will run a \"very sensitive analysis.\n",
    "The following terminal command was used:\n",
    "```\n",
    "[5367152@ip-172-30-0-105 ~]$ bowtie2 -p 4 --very-sensitive --no-unal -x /data/references/shewanella_oneidensis_mr-1/shewanella_oneidensis_mr-1 -U unaligned1.fastq -S shewanella_vsensitive.sam --un shewanella_vsensitive_unaligned.fastq\n",
    "```\n",
    "\n",
    "The output was:\n",
    "```\n",
    "1030006 reads; of these:\n",
    "  1030006 (100.00%) were unpaired; of these:\n",
    "    266514 (25.87%) aligned 0 times\n",
    "    711311 (69.06%) aligned exactly 1 time\n",
    "    52181 (5.07%) aligned >1 times\n",
    "74.13% overall alignment rate\n",
    "```"
   ]
  },
  {
   "cell_type": "markdown",
   "metadata": {},
   "source": [
    "**What percentage of your filtered library didn’t align to the reference genome? If\tyou\tuse --verysensitive\tinstead\tof --very-fast,\tdoes this percentage increase or decrease?**\n",
    "* For the fast bowtie analysis, 26.02% of the filtered sequence did not align to the _S. oneidensis_ reference genome. Using _--very-sensitive_ decreases this percentage to 25.87%. "
   ]
  },
  {
   "cell_type": "markdown",
   "metadata": {},
   "source": [
    "## Generate a Coverage Plot"
   ]
  },
  {
   "cell_type": "markdown",
   "metadata": {},
   "source": [
    "The following was run in the terminal to convert the file with reads that aligned to the shewanella genome to a bam file, sort it, index it, and to generate a file with coverage depth for each position:\n",
    "```\n",
    "[5367152@ip-172-30-0-105 ~]$ samtools view -b shewanella_vsensitive.sam > shewanella_vsensitive.bam\n",
    "[5367152@ip-172-30-0-105 ~]$ samtools sort shewanella_vsensitive.bam > shewanella_vsensitive.sorted.bam\n",
    "[5367152@ip-172-30-0-105 ~]$ samtools index shewanella_vsensitive.sorted.bam\n",
    "[5367152@ip-172-30-0-105 ~]$ samtools depth -a shewanella_vsensitive.sorted.bam > shewanella_pileup.tab\n",
    "```"
   ]
  },
  {
   "cell_type": "code",
   "execution_count": 4,
   "metadata": {},
   "outputs": [],
   "source": [
    "import csv\n",
    "import matplotlib.pyplot as plt\n",
    "from statistics import mean\n",
    "from collections import Counter\n",
    "from collections import OrderedDict\n",
    "from operator import itemgetter\n",
    "import numpy as np\n",
    "import matplotlib.ticker as mtick\n",
    "%matplotlib inline\n",
    "\n",
    "def makeCoveragePlots(file):\n",
    "    \"\"\"Two coverage plots are generated. A .tab file is used as input.\n",
    "    The first plot is the depth of coverage per position. The second \n",
    "    is the distribution of coverage.\"\"\"\n",
    "    \n",
    "    depth = []\n",
    "    reader = csv.reader(file, delimiter=\"\\t\")\n",
    "    for r in reader:\n",
    "        depth.append(int(r[2]))\n",
    "    \n",
    "    # Plot as function of position\n",
    "    pos = [i+1 for i in range(len(depth))]\n",
    "    plt.plot(pos, depth, \"r\")\n",
    "    plt.xlabel(\"Position in Genome\")\n",
    "    plt.ylabel(\"Depth of Coverage\")\n",
    "    plt.show()\n",
    "    \n",
    "    # Print statistics\n",
    "    print(\"Maximum coverage = \", max(depth))\n",
    "    print(\"Minimum coverage = \", min(depth))\n",
    "    print(\"Average coverage = %.3f\" % mean(depth))\n",
    "    \n",
    "    # Plot Coverage Depth Distribution\n",
    "    plt.hist(depth,100)\n",
    "    plt.xlabel(\"Depth of coverage\")\n",
    "    plt.ylabel(\"Count\")\n",
    "    plt.show()\n",
    "    \n",
    "    #return nothing as plots are displayed\n",
    "    return"
   ]
  },
  {
   "cell_type": "code",
   "execution_count": 8,
   "metadata": {},
   "outputs": [
    {
     "data": {
      "image/png": "[encoded data removed]",
      "text/plain": [
       "<Figure size 432x288 with 1 Axes>"
      ]
     },
     "metadata": {
      "needs_background": "light"
     },
     "output_type": "display_data"
    },
    {
     "name": "stdout",
     "output_type": "stream",
     "text": [
      "Maximum coverage =  263\n",
      "Minimum coverage =  0\n",
      "Average coverage = 37.499\n"
     ]
    },
    {
     "data": {
      "image/png": "[encoded data removed]",
      "text/plain": [
       "<Figure size 432x288 with 1 Axes>"
      ]
     },
     "metadata": {
      "needs_background": "light"
     },
     "output_type": "display_data"
    }
   ],
   "source": [
    "with open(\"shewanella_pileup.tab\") as f:\n",
    "    makeCoveragePlots(f)"
   ]
  },
  {
   "cell_type": "markdown",
   "metadata": {},
   "source": [
    "**What is the min, max, and mean coverage across all positions?**\n",
    "* According to the above calculated statistics: Max = 263, Min = 0, Average = 37.499"
   ]
  },
  {
   "cell_type": "markdown",
   "metadata": {},
   "source": [
    "## Extra Credit 1"
   ]
  },
  {
   "cell_type": "markdown",
   "metadata": {},
   "source": [
    "#### Our first task is to recreate the first two plots with the human aligned file"
   ]
  },
  {
   "cell_type": "markdown",
   "metadata": {},
   "source": [
    "Making a pileup .tab file - the same as above. The big difference here is that the _-a_ option is not used in order to avoid zero depth positions (which crashes the terminal or creates a massive file of >50Gb)"
   ]
  },
  {
   "cell_type": "markdown",
   "metadata": {},
   "source": [
    "```\n",
    "[5367152@ip-172-30-0-105 ~]$ samtools view -b aligned1.sam > aligned1_human.bam\n",
    "[5367152@ip-172-30-0-105 ~]$ samtools sort aligned1_human.bam > aligned1_human.sorted.bam\n",
    "[5367152@ip-172-30-0-105 ~]$ samtools index aligned1_human.sorted.bam\n",
    "[5367152@ip-172-30-0-105 ~]$ samtools depth aligned1_human.sorted.bam > aligned1_human_pileup.tab\n",
    "```\n",
    "**Note that the average coverage below is not applicable as zero coverage positions are ignored.Also, the position on the first graph is not representative as the .tab file doesn't have the zero coverage positions.  "
   ]
  },
  {
   "cell_type": "code",
   "execution_count": 9,
   "metadata": {},
   "outputs": [
    {
     "data": {
      "image/png": "[encoded data removed]",
      "text/plain": [
       "<Figure size 432x288 with 1 Axes>"
      ]
     },
     "metadata": {
      "needs_background": "light"
     },
     "output_type": "display_data"
    },
    {
     "name": "stdout",
     "output_type": "stream",
     "text": [
      "Maximum coverage =  5\n",
      "Minimum coverage =  0\n",
      "Average coverage = 1.047\n"
     ]
    },
    {
     "data": {
      "image/png": "[encoded data removed]",
      "text/plain": [
       "<Figure size 432x288 with 1 Axes>"
      ]
     },
     "metadata": {
      "needs_background": "light"
     },
     "output_type": "display_data"
    }
   ],
   "source": [
    "with open(\"aligned1_human_pileup.tab\") as f:\n",
    "    makeCoveragePlots(f)"
   ]
  },
  {
   "cell_type": "markdown",
   "metadata": {},
   "source": [
    "### Now we will plot the average depth of coverage for human chromosomes (22, X, Y)"
   ]
  },
  {
   "cell_type": "markdown",
   "metadata": {},
   "source": [
    "The following was used to extract reads for Chromosome 22, X, and Y from the aligned1_human.sorted bam file\n",
    "\n",
    "**NOTE: This can be repeated for Chromosomes 1-21 and plotted. Below is shown just for Chromosome 22, X, and Y.**"
   ]
  },
  {
   "cell_type": "markdown",
   "metadata": {},
   "source": [
    "```\n",
    "[5367152@ip-172-30-0-105 ~]$ samtools view -b aligned1_human.sorted.bam chr22 > human.sorted.chr22.bam\n",
    "[5367152@ip-172-30-0-105 ~]$ samtools view -b aligned1_human.sorted.bam chrX > human.sorted.chrX.bam\n",
    "[5367152@ip-172-30-0-105 ~]$ samtools view -b aligned1_human.sorted.bam chrY > human_vfast.sorted.chrY.bam\n",
    "```\n",
    "\n",
    "```\n",
    "[5367152@ip-172-30-0-105 ~]$ samtools depth -a human.sorted.chr22.bam > human_chr22_pileup.tab\n",
    "[5367152@ip-172-30-0-105 ~]$ samtools depth -a human.sorted.chrX.bam > human_chrX_pileup.tab\n",
    "[5367152@ip-172-30-0-105 ~]$ samtools depth -a human_vfast.sorted.chrY.bam > human_chrY_pileup.tab\n",
    "```"
   ]
  },
  {
   "cell_type": "code",
   "execution_count": 2,
   "metadata": {},
   "outputs": [],
   "source": [
    "def calcAvgDepth(file):\n",
    "    # total_p is the total number of positions in the file, total_d is the cumulated depth\n",
    "    total_pos = 0\n",
    "    total_depth = 0\n",
    "    reader = csv.reader(file, delimiter=\"\\t\")\n",
    "    for row in reader:\n",
    "        total_pos += 1\n",
    "        total_depth += int(row[2])\n",
    "    return total_depth/total_pos\n",
    "\n"
   ]
  },
  {
   "cell_type": "code",
   "execution_count": 5,
   "metadata": {},
   "outputs": [
    {
     "data": {
      "image/png": "[encoded data removed]",
      "text/plain": [
       "<Figure size 432x288 with 1 Axes>"
      ]
     },
     "metadata": {
      "needs_background": "light"
     },
     "output_type": "display_data"
    }
   ],
   "source": [
    "# chromosomes contains the chromosomes of interest\n",
    "chromosomes = ['chr22', 'chrX', 'chrY']\n",
    "\n",
    "# chr_avg will contain the average for each chromosome\n",
    "chr_avg = []\n",
    "with open(\"human_chr22_pileup.tab\") as f:\n",
    "    average = calcAvgDepth(f)\n",
    "    chr_avg.append(average)\n",
    "    \n",
    "with open(\"human_chrX_pileup.tab\") as f:\n",
    "    average = calcAvgDepth(f)\n",
    "    chr_avg.append(average)\n",
    "    \n",
    "with open(\"human_chrY_pileup.tab\") as f:\n",
    "    average = calcAvgDepth(f)\n",
    "    chr_avg.append(average)\n",
    "    \n",
    "# Generate bar plot\n",
    "lab = np.arange(len(chromosomes))\n",
    "plt.bar(lab, chr_avg)\n",
    "plt.xticks(lab, chromosomes)\n",
    "plt.ylabel(\"Average Coverage Depth\")\n",
    "plt.show()"
   ]
  },
  {
   "cell_type": "code",
   "execution_count": 3,
   "metadata": {},
   "outputs": [
    {
     "data": {
      "image/png": "[encoded data removed]",
      "text/plain": [
       "<Figure size 432x288 with 1 Axes>"
      ]
     },
     "metadata": {
      "needs_background": "light"
     },
     "output_type": "display_data"
    },
    {
     "name": "stdout",
     "output_type": "stream",
     "text": [
      "Maximum coverage =  2\n",
      "Minimum coverage =  0\n",
      "Average coverage = 0.000\n"
     ]
    },
    {
     "data": {
      "image/png": "[encoded data removed]",
      "text/plain": [
       "<Figure size 432x288 with 1 Axes>"
      ]
     },
     "metadata": {
      "needs_background": "light"
     },
     "output_type": "display_data"
    },
    {
     "data": {
      "image/png": "[encoded data removed]",
      "text/plain": [
       "<Figure size 432x288 with 1 Axes>"
      ]
     },
     "metadata": {
      "needs_background": "light"
     },
     "output_type": "display_data"
    },
    {
     "name": "stdout",
     "output_type": "stream",
     "text": [
      "Maximum coverage =  2\n",
      "Minimum coverage =  0\n",
      "Average coverage = 0.001\n"
     ]
    },
    {
     "data": {
      "image/png": "[encoded data removed]",
      "text/plain": [
       "<Figure size 432x288 with 1 Axes>"
      ]
     },
     "metadata": {
      "needs_background": "light"
     },
     "output_type": "display_data"
    },
    {
     "data": {
      "image/png": "[encoded data removed]",
      "text/plain": [
       "<Figure size 432x288 with 1 Axes>"
      ]
     },
     "metadata": {
      "needs_background": "light"
     },
     "output_type": "display_data"
    },
    {
     "name": "stdout",
     "output_type": "stream",
     "text": [
      "Maximum coverage =  1\n",
      "Minimum coverage =  0\n",
      "Average coverage = 0.000\n"
     ]
    },
    {
     "data": {
      "image/png": "[encoded data removed]",
      "text/plain": [
       "<Figure size 432x288 with 1 Axes>"
      ]
     },
     "metadata": {
      "needs_background": "light"
     },
     "output_type": "display_data"
    }
   ],
   "source": [
    "with open(\"human_chr22_pileup.tab\") as f:\n",
    "    makeCoveragePlots(f)\n",
    "    \n",
    "with open(\"human_chrX_pileup.tab\") as f:\n",
    "    makeCoveragePlots(f)\n",
    "    \n",
    "with open(\"human_chrY_pileup.tab\") as f:\n",
    "    makeCoveragePlots(f)"
   ]
  },
  {
   "cell_type": "markdown",
   "metadata": {},
   "source": [
    "**The graphs above are in pairs for the files regarding: Chromosome 22, Chromosome X, Chromosome Y in that order**"
   ]
  },
  {
   "cell_type": "markdown",
   "metadata": {},
   "source": [
    "**What biological sex is Jamie?**\n",
    "* Female. All of the coverage depths are very low (<0.1%). Chromosome Y has the lowest average coverage depth and does not have the maximum coverage. It seems that some of the human DNA found in the provided sequence reads does not have a chromosome Y - instead these matches occured just by chance. This is confirmed in the below extra credit where the higher coverage regions of chromosome Y show alignments to other chromosomes. "
   ]
  },
  {
   "cell_type": "markdown",
   "metadata": {},
   "source": [
    "##  Extra Credit 2:"
   ]
  },
  {
   "cell_type": "code",
   "execution_count": 14,
   "metadata": {},
   "outputs": [],
   "source": [
    "def findHighCoverage(file):\n",
    "    min_length = 20\n",
    "    \n",
    "    indices = []\n",
    "    reader = csv.reader(file, delimiter=\"\\t\")\n",
    "    \n",
    "    i = 1\n",
    "    imem = 1\n",
    "\n",
    "    for row in reader:\n",
    "        i+=1\n",
    "        # if the position does not have a coverage of 1\n",
    "        if not(int(row[2])==1):\n",
    "            # check if continuous sequence of coverage 1 is larger that min_length\n",
    "            if (i-imem)>min_length:\n",
    "                indices.append((imem,i))\n",
    "            imem = i\n",
    "\n",
    "    return indices"
   ]
  },
  {
   "cell_type": "markdown",
   "metadata": {},
   "source": [
    "**We will find high coverage areas. Sequences will be extracted and blasted.**"
   ]
  },
  {
   "cell_type": "code",
   "execution_count": 10,
   "metadata": {},
   "outputs": [
    {
     "name": "stdout",
     "output_type": "stream",
     "text": [
      "High coverage regions in chrY:  [(1551659, 1551941), (1773378, 1773426), (1773426, 1773680), (6392890, 6393191), (6497010, 6497311), (6709092, 6709320), (6709321, 6709395), (9782151, 9782452), (13582272, 13582573), (15246753, 15247054), (15637489, 15637790), (15854242, 15854543), (16081496, 16081797), (17059084, 17059385), (17083728, 17083798), (17083799, 17083867), (17083874, 17084034), (18874488, 18874641), (18874641, 18874790), (19029658, 19029959), (21538699, 21539000), (22195900, 22196201), (22757032, 22757333), (23226950, 23227251), (28489324, 28489625), (28675636, 28675917), (59265678, 59265977)]\n"
     ]
    }
   ],
   "source": [
    "with open(\"human_chrY_pileup.tab\") as f:\n",
    "    region = findHighCoverage(f)\n",
    "    print(\"High coverage regions in chrY: \", region)"
   ]
  },
  {
   "cell_type": "markdown",
   "metadata": {},
   "source": [
    "**For this exercise, I am picking 3 high coverage regions. The followin was run in the terminal**"
   ]
  },
  {
   "cell_type": "markdown",
   "metadata": {},
   "source": [
    "```\n",
    "[5367152@ip-172-30-0-105 ~]$ samtools view aligned1_human.sorted.bam \"chrY:1551659-1551941\"\n",
    "contaminated_read886192 0       chrY    1551639 2       19M1D281M       *      00       TGGAATACTATGCAGCCATAAAAAGGATGATTTCATGTCCTTTGCAGGGACATGGATGAAGCTGGAAACCCTCATTCTCAGCAAACTATCGCAAGGACAAAAAACCAAACACCGCATGTTCTCACTCATAGGTGGGAATTGAACAATGAGAACACATGGACACAGGAAGGGGAACATCACACACTGGGGCCTGTTTTGTGGTGGGGGGAGTGGGGAGGGATAGCATTAGGAGATATACCTAATGTTAAATGATGAGTTAATGGGTGCAGCACACCAACATGGCACATGTATACATATGTA    -A@CCEF<A<FFFFC@<,+@6BCCDF?C;EFC<E<@,,C6C:,@@FFA@D,;EFGCFGAF6CFFC<@CF8FF7CFD7FGGCFEGGGFCFGDFEGGGGFG,B?9FGGD7+8444>B+@<?EF8A4EF,C,9,48+4+@+6E,3,>DEFGGG9,188>8,3,6=2:8DE+,7@7C,=*33C:C,2=+3=7:=+=2>=+5282+44==*504=+2?*2)1*1*/184)*007)1).)5/(.((63(,6(3:36(4)))).,.),,301:0310))6)-)-((..3.3((((-,((((((((.(    AS:i:-73        XS:i:-75XN:i:0  XM:i:16 XO:i:1  XG:i:1  NM:i:17 MD:Z:19^C5T5G13T18C6A41T31C25A13C4A5G2G10C0G33C7C47     YT:Z:UU\n",
    "```\n",
    "\n",
    "**Blasting the sequence, this is the result with the highest % identity: Homo sapiens 3 BAC RP11-359D24 (Roswell Park Cancer Institute Human BAC Library) complete sequence. This is on Chromosome 3**"
   ]
  },
  {
   "cell_type": "markdown",
   "metadata": {},
   "source": [
    "```\n",
    "[5367152@ip-172-30-0-105 ~]$ samtools view aligned1_human.sorted.bam \"chrY:19029658-19029959\"\n",
    "contaminated_read372718 16      chrY    19029658        0       300M    *      00       ACTTGGAACCAACCCAAATATCCAACAACGATAGAGTGGATTAAGAAAATGTGGCACATATACACCATGGAATACTATACAGCCATAAAAAATGATGAGTTCATGTCCTTTGTAGGGACATGCGTGAAATTGGAAATCATCATTCTCAGTAAACTATCGCAAGGACAAAAAACCAAACACCACATGTCCTCACTCATAGATGGGTATTGAACAATGAGAACTCATGGACACAGGAAGGGGAACATCACACTCTGGGGACTGTTGTTGGGTGGGGAGAGGGGAGAAGGATAGCATTAGGAG    2*C@E9C@<;*2*;2*4+***=4*4FC2,24,@FC5+++?55+6,,26,,227F@@?,C7,;BGF?,;;CC?,;?;F>@,>5C@77,@77,,,,5,,@73;88,88+<83+838@8,,,C>@8FFEGGDCC7397C7,8D:A88@+EFCEEDE;EDGFECF?FE8A,?9FAFE,<CB+CE4,A+C:==CFFBF?4,9<9EGFC@,EA<<GGCFA<,DF7GCE9DGFFF@,FF@9AB,,@@F9FFFFFFFFDFGGFAFGDGFAGFGFGGGGFGEEFEEDC,CGEFEGGGGGGGEGGCBCCC    AS:i:-98        XS:i:-117       XN:i:0  XM:i:23 XO:i:0  XG:i:0  NM:i:23 MD:Z:5C11T1G8T6T42G13C29G0A39A17G3A1T30G0T1A20T22G8G2A3G2G10G4  YT:Z:UU\n",
    "```\n",
    "\n",
    "\n",
    "**Blasting the sequence, this is the result with the highest % identity: Human DNA sequence from clone RP11-159M11 on chromosome 1, complete sequence**\n"
   ]
  },
  {
   "cell_type": "markdown",
   "metadata": {},
   "source": [
    "```\n",
    "[5367152@ip-172-30-0-105 ~]$ samtools view aligned1_human.sorted.bam \"chrY: 22757032-22757333\"\n",
    "contaminated_read224242 16      chrY    22757032        6       300M    *      00       GAGAAATAGGAACACTTTTACACTGTTGGTGGGACGGTAAACTAGTTCAACCATTGTGGAAGTCAGTGTGGCGATTCCTCAGGGATCTAGAACTAGTAATACCATTTGACCCAGCCATCCCATTAGTGGGTATATACCCAAAGGACTATAAATCATGCTGCTATAAAGACACATGCACACATATGTTTATTGCGGCATTATTCACAATAGCAAAGACTTGGAACCAACCCAAATGTCCAACAATGATAGACTCGATTAAGAAAATGTGGCACATATACACCATGGAATACTATGCAGCCA    00D6*25<3++)-((-)))4:4:)<6.))-6)-5.).,)(()2:1(6-)/<:4<4-))<:96;BB99:65<>@A2);;*6:4CFD=>;CF9=8AB+8?8?94=@CAC=5:C;7;=7CC;9FCGF@CGFD>DC?EFCCDGGFGGEFGGGGGGGGGGGGFGGFFGGGGGGGGGGGGGGFGGGGGGGGGGGGGGGGGGGGGDGGGGGGGGGGGGGGGGGGGGGGGGGGGGGGGGGGGGGGFGGGGGFFD<DGGGFGGGGGGGGGGGGGGGGGGGGGGGFGGGGGGGGGGGGGGGGGGGCCCCC    AS:i:-36        XS:i:-39XN:i:0  XM:i:8  XO:i:0  XG:i:0  NM:i:8  MD:Z:35T36A10A12A28C28G25G46G72 YT:Z:UU\n",
    "```\n",
    "\n",
    "**Blasting the sequence, this is the result with the highest % identity: Homo sapiens chromosome 1 clone RP11-435I3, complete sequence**\n"
   ]
  },
  {
   "cell_type": "markdown",
   "metadata": {},
   "source": [
    "## END OF LAB 6"
   ]
  }
 ],
 "metadata": {
  "kernelspec": {
   "display_name": "Python 3",
   "language": "python",
   "name": "python3"
  },
  "language_info": {
   "codemirror_mode": {
    "name": "ipython",
    "version": 3
   },
   "file_extension": ".py",
   "mimetype": "text/x-python",
   "name": "python",
   "nbconvert_exporter": "python",
   "pygments_lexer": "ipython3",
   "version": "3.7.3"
  }
 },
 "nbformat": 4,
 "nbformat_minor": 2
}
